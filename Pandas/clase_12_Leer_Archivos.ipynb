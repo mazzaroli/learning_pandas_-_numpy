{
 "cells": [
  {
   "cell_type": "code",
   "execution_count": 6,
   "metadata": {},
   "outputs": [],
   "source": [
    "import pandas as pd"
   ]
  },
  {
   "cell_type": "markdown",
   "metadata": {},
   "source": [
    "# Leer archivos CSV y JSON con Pandas"
   ]
  },
  {
   "cell_type": "markdown",
   "metadata": {},
   "source": [
    "## Cargar Archivos\n",
    "Podemos cargar archivos a traves de url, json, html, etc"
   ]
  },
  {
   "cell_type": "markdown",
   "metadata": {},
   "source": [
    "### CSV\n",
    "Podemos cargar los archivos *csv* de manera automatica, o dandole atributos especiales cuando el archivo no este deliminitado por comas, sino por algun otro caracte"
   ]
  },
  {
   "cell_type": "code",
   "execution_count": 7,
   "metadata": {},
   "outputs": [],
   "source": [
    "csv_per_default = pd.read_csv('./data/bestsellers-with-categories.csv')"
   ]
  },
  {
   "cell_type": "markdown",
   "metadata": {},
   "source": [
    "#### Cambiar inicio nombres de columnas"
   ]
  },
  {
   "cell_type": "code",
   "execution_count": 8,
   "metadata": {},
   "outputs": [],
   "source": [
    "header_0 = pd.read_csv('./data/bestsellers-with-categories.csv', sep=\",\", header=0,)\n"
   ]
  },
  {
   "cell_type": "code",
   "execution_count": 9,
   "metadata": {},
   "outputs": [],
   "source": [
    "header_100 = pd.read_csv('./data/bestsellers-with-categories.csv', sep=\",\", header=100,)"
   ]
  },
  {
   "cell_type": "code",
   "execution_count": 10,
   "metadata": {},
   "outputs": [],
   "source": [
    "header_none = pd.read_csv('./data/bestsellers-with-categories.csv', sep=\",\", header=None)"
   ]
  },
  {
   "cell_type": "markdown",
   "metadata": {},
   "source": [
    "#### Cambiar nombres de columnas"
   ]
  },
  {
   "cell_type": "code",
   "execution_count": 11,
   "metadata": {},
   "outputs": [
    {
     "data": {
      "text/plain": [
       "Index(['Name', 'Author', 'User Rating', 'Reviews', 'Price', 'Year', 'Genre'], dtype='object')"
      ]
     },
     "execution_count": 11,
     "metadata": {},
     "output_type": "execute_result"
    }
   ],
   "source": [
    "df_books = pd.read_csv(\n",
    "    './data/bestsellers-with-categories.csv', \n",
    "    sep=\",\", \n",
    "    header=0)\n",
    "df_books.columns"
   ]
  },
  {
   "cell_type": "code",
   "execution_count": 12,
   "metadata": {},
   "outputs": [],
   "source": [
    "df_books = pd.read_csv(\n",
    "    './data/bestsellers-with-categories.csv', \n",
    "    sep=\",\", \n",
    "    header=0, \n",
    "    names=['Namesss', 'Authorrrr', 'User Rating', 'Reviews', 'Price', 'Year', 'Genre']\n",
    ")"
   ]
  },
  {
   "cell_type": "code",
   "execution_count": 13,
   "metadata": {},
   "outputs": [
    {
     "data": {
      "text/plain": [
       "Index(['Namesss', 'Authorrrr', 'User Rating', 'Reviews', 'Price', 'Year',\n",
       "       'Genre'],\n",
       "      dtype='object')"
      ]
     },
     "execution_count": 13,
     "metadata": {},
     "output_type": "execute_result"
    }
   ],
   "source": [
    "df_books.columns"
   ]
  },
  {
   "cell_type": "markdown",
   "metadata": {},
   "source": [
    "### JSON\n",
    "Podemos cargar el archivo JSON como un *DataFrame* por default, u otra forma de llevar la estructura JSON a una estructura de Pandas como una *Series*"
   ]
  },
  {
   "cell_type": "code",
   "execution_count": 14,
   "metadata": {},
   "outputs": [],
   "source": [
    "json_per_default = pd.read_json('./data/hpcharactersdataraw.json')"
   ]
  },
  {
   "cell_type": "code",
   "execution_count": 15,
   "metadata": {},
   "outputs": [
    {
     "data": {
      "text/plain": [
       "0       {'Name': 'Mrs. Abbott', 'Link': 'https://www.h...\n",
       "1       {'Name': 'Hannah Abbott', 'Link': 'https://www...\n",
       "2       {'Name': 'Abel Treetops', 'Link': 'https://www...\n",
       "3       {'Name': 'Euan Abercrombie', 'Link': 'https://...\n",
       "4       {'Name': 'Aberforth Dumbledore', 'Link': 'http...\n",
       "                              ...                        \n",
       "1935    {'Name': 'Georgi Zdravko', 'Link': 'https://ww...\n",
       "1936    {'Name': 'Zograf', 'Link': 'https://www.hp-lex...\n",
       "1937    {'Name': 'Zonko', 'Link': 'https://www.hp-lexi...\n",
       "1938    {'Name': 'Valentina Vázquez', 'Link': 'https:/...\n",
       "1939    {'Name': 'Zygmunt Budge', 'Link': 'https://www...\n",
       "Length: 1940, dtype: object"
      ]
     },
     "execution_count": 15,
     "metadata": {},
     "output_type": "execute_result"
    }
   ],
   "source": [
    "# Me indexa una lista en raw del formato llave valor del JSON\n",
    "pd.read_json('./data/hpcharactersdataraw.json',typ='Series')"
   ]
  },
  {
   "cell_type": "markdown",
   "metadata": {},
   "source": [
    "# Reto\n",
    "- Sacar un dataset de Kaggle.com\n",
    "- Cargar el DataFrame con la ruta del archivo"
   ]
  },
  {
   "cell_type": "code",
   "execution_count": 16,
   "metadata": {},
   "outputs": [],
   "source": [
    "genshin = pd.read_csv('./data/genshin.csv', sep=',', header=0)"
   ]
  },
  {
   "cell_type": "code",
   "execution_count": 17,
   "metadata": {},
   "outputs": [
    {
     "name": "stdout",
     "output_type": "stream",
     "text": [
      "<class 'pandas.core.frame.DataFrame'>\n",
      "RangeIndex: 52 entries, 0 to 51\n",
      "Data columns (total 17 columns):\n",
      " #   Column               Non-Null Count  Dtype  \n",
      "---  ------               --------------  -----  \n",
      " 0   character_name       52 non-null     object \n",
      " 1   vision               52 non-null     object \n",
      " 2   region               49 non-null     object \n",
      " 3   model                52 non-null     object \n",
      " 4   birthday             47 non-null     object \n",
      " 5   weapon_type          51 non-null     object \n",
      " 6   rarity               51 non-null     float64\n",
      " 7   ascension            49 non-null     object \n",
      " 8   ascension_specialty  49 non-null     object \n",
      " 9   ascension_enemy_mat  49 non-null     object \n",
      " 10  ascension_boss_mat   47 non-null     object \n",
      " 11  talent_book          49 non-null     object \n",
      " 12  talent_mat           49 non-null     object \n",
      " 13  hp_90                49 non-null     float64\n",
      " 14  atk_90               49 non-null     float64\n",
      " 15  def_90               49 non-null     float64\n",
      " 16  playable             52 non-null     object \n",
      "dtypes: float64(4), object(13)\n",
      "memory usage: 7.0+ KB\n"
     ]
    }
   ],
   "source": [
    "genshin.info()"
   ]
  }
 ],
 "metadata": {
  "interpreter": {
   "hash": "642679db579c39e8c54388d8c67ee59d6b9479549eff357c7b1dae31a7261e66"
  },
  "kernelspec": {
   "display_name": "Python 3.9.7 ('base')",
   "language": "python",
   "name": "python3"
  },
  "language_info": {
   "codemirror_mode": {
    "name": "ipython",
    "version": 3
   },
   "file_extension": ".py",
   "mimetype": "text/x-python",
   "name": "python",
   "nbconvert_exporter": "python",
   "pygments_lexer": "ipython3",
   "version": "3.9.7"
  },
  "orig_nbformat": 4
 },
 "nbformat": 4,
 "nbformat_minor": 2
}
