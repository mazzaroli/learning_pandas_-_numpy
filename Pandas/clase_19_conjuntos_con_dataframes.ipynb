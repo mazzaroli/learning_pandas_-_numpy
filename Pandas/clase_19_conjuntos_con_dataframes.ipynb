{
 "cells": [
  {
   "cell_type": "markdown",
   "metadata": {},
   "source": [
    "# Combinando dataFrames\n",
    "Existen diferentes formas de fusionar dos dataFrames. Esto se hace a traves de la lógica de combinación como se muestra a continuacion\n",
    "\n",
    "## merge-join\n",
    "![](https://static.platzi.com/media/user_upload/merge-join-bce1f2e4-f1af-4fdd-8b80-a3d8926d9444.jpg)\n",
    "### left join:\n",
    "()\n",
    "da prioridad al dataFrame de la izquierda. Trae siempre los datos de la izquierda y las filas en comun con el dataFrame de la derecha.\n",
    "### Right join:\n",
    "Da prioridad al dataFrame de la derecha. Trae siempre los datos de la derecha y las filas en comun con el dataFrame de la izquierda.\n",
    "Inner join: Trae solamente aquellos datos que son común en ambos dataFrame\n",
    "### Outer join: \n",
    "Trae los datos tanto del dataFrame de la izquierda como el de la derecha incluyendo los datos que comparten ambos.\n",
    "## merge-join-dataFrames\n",
    "\n",
    "![a](https://static.platzi.com/media/user_upload/merge-join-dataFrames-01b5dc63-99da-4987-a68e-4a536c5a81e9.jpg)\n",
    "\n",
    "### Concat - Axis 0: \n",
    "permite combinar dos dataframes a nivel de filas. Crecimiento vertical\n",
    "\n",
    "![concat-filas.png](https://static.platzi.com/media/user_upload/concat-filas-eab75fcb-d6d4-4cbb-a2ce-e38ff7aef7b0.jpg)\n",
    "\n",
    "### Concat - Axis 1: \n",
    "permite combinar dos dataframes a nivel de columnas. La organizacion por columnas no va a ser la misma para ambos dataFrames, por tanto, se crearan valores NaN para rellenar los espacios vacios. Crecimiento horizontal\n",
    "\n",
    "![concat-columnas.png](https://static.platzi.com/media/user_upload/concat-columnas-3b54ea2e-76ba-485b-b524-a452dc604146.jpg)\n"
   ]
  }
 ],
 "metadata": {
  "interpreter": {
   "hash": "642679db579c39e8c54388d8c67ee59d6b9479549eff357c7b1dae31a7261e66"
  },
  "kernelspec": {
   "display_name": "Python 3.9.7 ('base')",
   "language": "python",
   "name": "python3"
  },
  "language_info": {
   "codemirror_mode": {
    "name": "ipython",
    "version": 3
   },
   "file_extension": ".py",
   "mimetype": "text/x-python",
   "name": "python",
   "nbconvert_exporter": "python",
   "pygments_lexer": "ipython3",
   "version": "3.9.7"
  },
  "orig_nbformat": 4
 },
 "nbformat": 4,
 "nbformat_minor": 2
}
