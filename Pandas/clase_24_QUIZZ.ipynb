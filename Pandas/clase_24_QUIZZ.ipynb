{
 "cells": [
  {
   "cell_type": "markdown",
   "metadata": {},
   "source": [
    "- 1. ¿Cuál es el parámetro para especificar el delimitador del archivo en pd.read_csv()?\n",
    "\n",
    "   - sep\n",
    "\n",
    "- 2. De esta manera se pueden eliminar filas con valores nulos de un DataFrame en Pandas:\n",
    "\n",
    "    - df.dropna()\n",
    "\n",
    "- 3. ¿Con cuál de las opciones se ordenan los datos del DataFrame df_books de manera descendente por la columna year?\n",
    "\n",
    "    - df_books.sort_values('Year',ascending=False)\n",
    "    \n",
    "- 4. ¿Cuál comando imprime las n primeras filas de un DataFrame de Pandas?\n",
    "\n",
    "    - head"
   ]
  }
 ],
 "metadata": {
  "interpreter": {
   "hash": "642679db579c39e8c54388d8c67ee59d6b9479549eff357c7b1dae31a7261e66"
  },
  "kernelspec": {
   "display_name": "Python 3.9.7 ('base')",
   "language": "python",
   "name": "python3"
  },
  "language_info": {
   "name": "python",
   "version": "3.9.7"
  },
  "orig_nbformat": 4
 },
 "nbformat": 4,
 "nbformat_minor": 2
}
